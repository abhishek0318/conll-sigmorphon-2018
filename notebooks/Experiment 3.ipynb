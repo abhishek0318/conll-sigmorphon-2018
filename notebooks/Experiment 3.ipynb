{
 "cells": [
  {
   "cell_type": "markdown",
   "metadata": {},
   "source": [
    "# Pointer Generator over characters and tags"
   ]
  },
  {
   "cell_type": "code",
   "execution_count": 1,
   "metadata": {},
   "outputs": [],
   "source": [
    "START_CHAR = '⏵'\n",
    "STOP_CHAR = '⏹'\n",
    "UNKNOWN_CHAR = '⊗'\n",
    "UNKNOWN_TAG = '⊤'\n",
    "PAD_CHAR = '₮'\n",
    "PAD_TAG = '<PAD>'"
   ]
  },
  {
   "cell_type": "code",
   "execution_count": 2,
   "metadata": {},
   "outputs": [],
   "source": [
    "%matplotlib inline\n",
    "\n",
    "from itertools import zip_longest\n",
    "import os\n",
    "import pickle\n",
    "import time\n",
    "\n",
    "import Levenshtein\n",
    "import numpy as np\n",
    "from sklearn.model_selection import train_test_split\n",
    "from matplotlib.font_manager import FontProperties\n",
    "import matplotlib.pyplot as plt\n",
    "import matplotlib.ticker as ticker\n",
    "import torch\n",
    "import torch.nn as nn\n",
    "import torch.optim as optim\n",
    "from torch.nn.utils.rnn import pad_sequence, pack_padded_sequence, pad_packed_sequence\n",
    "import torch.nn.functional as F"
   ]
  },
  {
   "cell_type": "code",
   "execution_count": 3,
   "metadata": {},
   "outputs": [],
   "source": [
    "def load_data(file_name):\n",
    "    \"\"\"Loads data.\n",
    "\n",
    "    Args:\n",
    "        file_name: path to file containing the data\n",
    "\n",
    "    Returns:\n",
    "        lemmas: list of lemma\n",
    "        tags: list of tags\n",
    "        inflected_forms: list of inflected form\n",
    "    \"\"\"\n",
    "\n",
    "    with open(file_name, 'r', encoding='utf') as file:\n",
    "        text = file.read()\n",
    "\n",
    "    lemmas = []\n",
    "    tags = []\n",
    "    inflected_forms = []\n",
    "\n",
    "    for line in text.split('\\n')[:-1]:\n",
    "        lemma, inflected_form, tag = line.split('\\t')\n",
    "        lemmas.append(lemma)\n",
    "        inflected_forms.append(inflected_form)\n",
    "        tags.append(tag) \n",
    "\n",
    "    return lemmas, tags, inflected_forms\n",
    "\n",
    "def get_index_dictionaries(lemmas, tags, inflected_forms):\n",
    "    \"\"\"Returns char2index, index2char, tag2index\n",
    "\n",
    "    Args:\n",
    "        lemmas: list of lemma\n",
    "        tags: list of tags\n",
    "        inflected_forms: list of inflected form\n",
    "\n",
    "    Returns: \n",
    "        char2index: a dictionary which maps character to index\n",
    "        index2char: a dictionary which maps index to character\n",
    "        tag2index: a ditionary which maps morphological tag to index \n",
    "    \"\"\"\n",
    "\n",
    "    unique_chars = set(''.join(lemmas) + ''.join(inflected_forms))\n",
    "    unique_chars.update(START_CHAR, STOP_CHAR) # special start and end symbols\n",
    "    unique_chars.update(UNKNOWN_CHAR) # special charcter for unknown word\n",
    "    char2index = {}\n",
    "    index2char = {}\n",
    "\n",
    "    char2index[PAD_CHAR] = 0\n",
    "    index2char[0] = PAD_CHAR\n",
    "    \n",
    "    for index, char in enumerate(unique_chars):\n",
    "        char2index[char] = index + 1\n",
    "        index2char[index + 1] = char\n",
    "\n",
    "    unique_tags = set(';'.join(tags).split(';'))\n",
    "    unique_tags.update(UNKNOWN_TAG)\n",
    "    tag2index = {tag:index+1 for index, tag in enumerate(unique_tags)}\n",
    "    tag2index[PAD_TAG] = 0\n",
    "\n",
    "    return char2index, index2char, tag2index\n",
    "\n",
    "def get_combined_index_dictionaries(lemmas, tags, inflected_forms):\n",
    "    \"\"\"Returns char2index, index2char\n",
    "\n",
    "    Args:\n",
    "        lemmas: list of lemma\n",
    "        tags: list of tags\n",
    "        inflected_forms: list of inflected form\n",
    "\n",
    "    Returns: \n",
    "        char2index: a dictionary which maps inputs and  to index\n",
    "        index2char: a dictionary which maps index to inputs\n",
    "    \"\"\"\n",
    "\n",
    "    unique_chars = set(''.join(lemmas) + ''.join(inflected_forms))\n",
    "    unique_chars.update(START_CHAR, STOP_CHAR, UNKNOWN_CHAR) # special start and end symbols  \n",
    "    \n",
    "    input2index = {}\n",
    "    index2input = {}\n",
    "    \n",
    "    input2index[PAD_CHAR] = 0\n",
    "    index2input[0] = PAD_CHAR\n",
    "        \n",
    "    for index, char in enumerate(unique_chars, start=1):\n",
    "        input2index[char] = index\n",
    "        index2input[index] = char\n",
    "        \n",
    "    char_vocab_length = len(input2index.keys())\n",
    "\n",
    "    unique_tags = set(';'.join(tags).split(';'))\n",
    "    unique_tags.add(UNKNOWN_TAG) # special character for unknown tags\n",
    "    \n",
    "    for index, char in enumerate(unique_tags, start=char_vocab_length):\n",
    "        input2index[char] = index\n",
    "        index2input[index] = char\n",
    "\n",
    "    return input2index, index2input, char_vocab_length\n",
    "\n",
    "def words_to_indices(words, char2index, tensor=False, start_char=False, stop_char=False):\n",
    "    \"\"\"Converts list of words to a list with list containing indices\n",
    "\n",
    "    Args:\n",
    "        words: list of words\n",
    "        char2index: dictionary which maps character to index\n",
    "        tensor: if to return a list of tensor  \n",
    "\n",
    "    Returns:\n",
    "        tensor: list of list/tensor containing indices for a sequence of characters\n",
    "    \"\"\"\n",
    "\n",
    "    list_indices = []\n",
    "    for word in words:\n",
    "        word_indices = []\n",
    "        if start_char:\n",
    "            word_indices.append(char2index[START_CHAR])\n",
    "        for char in word:\n",
    "            if char in char2index.keys():\n",
    "                word_indices.append(char2index[char])\n",
    "            else:\n",
    "                word_indices.append(char2index[UNKNOWN_CHAR])\n",
    "        if stop_char:\n",
    "            word_indices.append(char2index[STOP_CHAR])\n",
    "        if tensor:\n",
    "            word_indices = torch.Tensor(word_indices)\n",
    "        list_indices.append(word_indices)\n",
    "\n",
    "    return list_indices\n",
    "\n",
    "def tag_to_vector(tags, tag2index):\n",
    "    \"\"\"Returns one hot representation of tags given a tag.\n",
    "\n",
    "    Args:\n",
    "        tags: list of string representation of tag (eg, V;IND;PRS;2;PL)\n",
    "\n",
    "    Returns:\n",
    "        tag_vectors: list of 1D tensors with one hot representation of tags \n",
    "    \"\"\"\n",
    "\n",
    "    tag_vectors = []\n",
    "    for tag in tags:\n",
    "        tag_vector = torch.zeros(len(tag2index))\n",
    "        for tag_feature in tag.split(';'):\n",
    "            if tag_feature in tag2index:\n",
    "                tag_vector[tag2index[tag_feature]] = 1\n",
    "            else:\n",
    "                tag_vector[tag2index[UNKNOWN_TAG]] = 1\n",
    "        tag_vectors.append(tag_vector)\n",
    "    return tag_vectors\n",
    "\n",
    "def tag_to_indices(tags, tag2index):\n",
    "    \"\"\"Converts list of tags to a list of lists containing indices\n",
    "\n",
    "    Args:\n",
    "        words: list of tags\n",
    "\n",
    "    Returns:\n",
    "        tensor: list of list containing indices of sub_tags\n",
    "    \"\"\"\n",
    "    \n",
    "    list_indices = []\n",
    "    for tag in tags:\n",
    "        tag_indices = []\n",
    "        for sub_tag in tag.split(';'):\n",
    "            if sub_tag in tag2index.keys():\n",
    "                tag_indices.append(tag2index[sub_tag])\n",
    "            else:\n",
    "                tag_indices.append(tag2index[UNKNOWN_TAG])\n",
    "        list_indices.append(tag_indices)\n",
    "\n",
    "    return list_indices\n",
    "    \n",
    "\n",
    "def indices_to_word(indices, index2char):\n",
    "    \"\"\"Returns a word given list contaning indices of words\n",
    "\n",
    "    Args:\n",
    "        indices: list containing indices\n",
    "\n",
    "    Returns:\n",
    "        word: a string\n",
    "    \"\"\"\n",
    "\n",
    "    return ''.join([index2char[index] for index in indices])[:-1]\n",
    "\n",
    "def pad_lists(lists, pad_int, pad_len=None):\n",
    "    \"\"\"Pads lists in a list to make them of equal size\"\"\"\n",
    "    \n",
    "    if pad_len is None:\n",
    "        pad_len = max([len(lst) for lst in lists])\n",
    "    new_list = []\n",
    "    for lst in lists:\n",
    "        if len(lst) < pad_len:\n",
    "            new_list.append(torch.tensor(lst + [pad_int] * (pad_len-len(lst))))\n",
    "        else:\n",
    "            new_list.append(torch.tensor(lst[:pad_len]))\n",
    "    return torch.stack(new_list)\n",
    "\n",
    "def merge_lists(lists1, lists2):\n",
    "    \"\"\"Add two list of lists.\"\"\"\n",
    "    \n",
    "    merged_lists = []\n",
    "    for list1, list2 in zip(lists1, lists2):\n",
    "        merged_lists.append(list1 + list2)\n",
    "    return merged_lists\n",
    "\n",
    "def grouper(iterable, n, fillvalue=None):\n",
    "    \"Collect data into fixed-length chunks or blocks\"\n",
    "    # grouper('ABCDEFG', 3, 'x') --> ABC DEF Gxx\"\n",
    "    args = [iter(iterable)] * n\n",
    "    return zip_longest(*args, fillvalue=fillvalue)\n",
    "\n",
    "def accuracy(predictions, targets):\n",
    "    correct_count = 0\n",
    "    for prediction, target in zip(predictions, targets):\n",
    "        if prediction == target:\n",
    "            correct_count += 1\n",
    "    return correct_count / len(predictions)\n",
    "\n",
    "def average_distance(predictions, targets):\n",
    "    total_distance = 0\n",
    "    for prediction, target in zip(predictions, targets):\n",
    "        total_distance += Levenshtein.distance(prediction, target)\n",
    "    return total_distance / len(predictions)\n",
    "\n",
    "def evaluate(predictions, targets):\n",
    "    return accuracy(predictions, targets), average_distance(predictions, targets)"
   ]
  },
  {
   "cell_type": "code",
   "execution_count": 4,
   "metadata": {},
   "outputs": [],
   "source": [
    "language = 'middle-french'\n",
    "dataset = 'high'"
   ]
  },
  {
   "cell_type": "code",
   "execution_count": 5,
   "metadata": {},
   "outputs": [],
   "source": [
    "lemmas, tags, inflected_forms = load_data('./conll2018/task1/all/{}-train-{}'.format(language, dataset))"
   ]
  },
  {
   "cell_type": "code",
   "execution_count": 6,
   "metadata": {},
   "outputs": [],
   "source": [
    "lemmas_train, lemmas_val, tags_train, tags_val, inflected_forms_train, inflected_forms_val = train_test_split(lemmas, tags, inflected_forms, test_size=0.2, random_state=42)"
   ]
  },
  {
   "cell_type": "code",
   "execution_count": 7,
   "metadata": {},
   "outputs": [],
   "source": [
    "input2index, index2input, char_vocab_size = get_combined_index_dictionaries(lemmas_train, tags_train, inflected_forms_train)\n"
   ]
  },
  {
   "cell_type": "markdown",
   "metadata": {},
   "source": [
    "# Train"
   ]
  },
  {
   "cell_type": "code",
   "execution_count": 8,
   "metadata": {},
   "outputs": [],
   "source": [
    "device = torch.device(\"cuda:0\" if torch.cuda.is_available() else \"cpu\")"
   ]
  },
  {
   "cell_type": "code",
   "execution_count": 9,
   "metadata": {},
   "outputs": [],
   "source": [
    "batch_size = 32\n",
    "embedding_size = 300\n",
    "hidden_size = 100\n",
    "input_vocab_size = len(index2input.keys())"
   ]
  },
  {
   "cell_type": "markdown",
   "metadata": {},
   "source": [
    "    class Attention(nn.Module):\n",
    "        def __init__(self, hidden_size):\n",
    "            # Custom\n",
    "\n",
    "            super(Attention, self).__init__()\n",
    "            self.linear = nn.Linear(3*hidden_size, 1)\n",
    "\n",
    "        def forward(self, encoded_input, hidden_state, input_mask):\n",
    "            src_len = encoded_input.shape[1]\n",
    "            concat = torch.cat([encoded_input, hidden_state.transpose(0, 1).expand(-1, src_len, -1)], dim=2)\n",
    "            attn_weights = F.tanh(self.linear(concat).squeeze())\n",
    "\n",
    "            input_mask = input_mask.float()\n",
    "            input_mask = torch.where(input_mask == 0, torch.zeros_like(input_mask), torch.ones_like(input_mask) * float('inf'))\n",
    "            attn_weights = attn_weights - input_mask\n",
    "            # attn_weights.data.masked_fill_(input_mask, float('-inf'))\n",
    "\n",
    "            attn_weights = F.softmax(attn_weights, dim=1)\n",
    "            return attn_weights"
   ]
  },
  {
   "cell_type": "markdown",
   "metadata": {},
   "source": [
    "    class Attention(nn.Module):\n",
    "        def __init__(self, hidden_size, intermediate_size=100):\n",
    "            # concat scoring function - global attention \n",
    "            # https://arxiv.org/pdf/1508.04025.pdf\n",
    "\n",
    "            super(Attention, self).__init__()\n",
    "            if intermediate_size is None:\n",
    "                intermediate_size = int(attention_input_size ** (1/2))\n",
    "            self.W_a = nn.Linear(3*hidden_size, intermediate_size, bias=False)\n",
    "            self.v_a = nn.Linear(intermediate_size, 1, bias=False)\n",
    "\n",
    "        def forward(self, encoded_input, hidden_state, input_mask):\n",
    "            src_len = encoded_input.shape[1]\n",
    "            concat = torch.cat([encoded_input, hidden_state.transpose(0, 1).expand(-1, src_len, -1)], dim=2)\n",
    "            attn_weights = F.tanh(self.W_a(concat))\n",
    "            attn_weights = self.v_a(attn_weights).squeeze()\n",
    "            attn_weights.data.masked_fill_(input_mask, float('-inf'))\n",
    "            attn_weights = F.softmax(attn_weights, dim=1)\n",
    "            return attn_weights"
   ]
  },
  {
   "cell_type": "code",
   "execution_count": 10,
   "metadata": {},
   "outputs": [],
   "source": [
    "class Attention(nn.Module):\n",
    "    def __init__(self, hidden_size, p=0.3):\n",
    "        # general scoring function - global attention \n",
    "        # https://arxiv.org/pdf/1508.04025.pdf\n",
    "\n",
    "        super(Attention, self).__init__()\n",
    "        self.W_a = nn.Linear(2*hidden_size, hidden_size, bias=False)\n",
    "        # self.dropout = nn.Dropout(p)\n",
    "\n",
    "    def forward(self, encoded_input, hidden_state, input_mask):\n",
    "        src_len = encoded_input.shape[1]\n",
    "        attn_weights = torch.bmm(self.W_a(encoded_input), hidden_state.transpose(0, 1).transpose(1, 2)).squeeze()\n",
    "        attn_weights.data.masked_fill_(input_mask, float('-inf'))\n",
    "        # attn_weights = dropout(attn_weights)\n",
    "        attn_weights = F.softmax(attn_weights, dim=1)\n",
    "        return attn_weights"
   ]
  },
  {
   "cell_type": "markdown",
   "metadata": {},
   "source": [
    "    class Attention(nn.Module):\n",
    "        def __init__(self, attention_input_size, intermediate_size=100):\n",
    "            super(Attention, self).__init__()\n",
    "\n",
    "        def forward(self, encoded_input, hidden_state, input_mask):\n",
    "            src_len = encoded_input.shape[1]\n",
    "            attn_weights = (encoded_input * torch.cat([hidden_state.transpose(0, 1).expand(-1, src_len, -1), hidden_state.transpose(0, 1).expand(-1, src_len, -1)], dim=2)).sum(dim=2)\n",
    "\n",
    "            input_mask = input_mask.float()\n",
    "            input_mask = torch.where(input_mask == 0, torch.zeros_like(input_mask), torch.ones_like(input_mask) * float('inf'))\n",
    "            attn_weights = attn_weights - input_mask\n",
    "            #attn_weights.masked_fill_(input_mask, float('-inf'))\n",
    "\n",
    "            attn_weights = F.softmax(attn_weights, dim=1)\n",
    "            return attn_weights"
   ]
  },
  {
   "cell_type": "code",
   "execution_count": 11,
   "metadata": {},
   "outputs": [],
   "source": [
    "class GenerationProbability(nn.Module):\n",
    "    def __init__(self, embedding_size, hidden_size):\n",
    "        super(GenerationProbability, self).__init__()\n",
    "        self.linear_context = nn.Linear(2*hidden_size, 1)\n",
    "        self.linear_hidden = nn.Linear(hidden_size, 1)\n",
    "        self.linear_input = nn.Linear(embedding_size, 1)\n",
    "        \n",
    "    def forward(self, context, hidden_state, decoder_input):\n",
    "        return F.sigmoid(self.linear_context(context) + self.linear_hidden(hidden_state.squeeze()) + self.linear_input(decoder_input))"
   ]
  },
  {
   "cell_type": "code",
   "execution_count": 12,
   "metadata": {},
   "outputs": [],
   "source": [
    "Embedder = nn.Embedding(input_vocab_size, embedding_size, padding_idx=input2index[PAD_CHAR]).to(device)\n",
    "Encoder = nn.LSTM(embedding_size, hidden_size, batch_first=True, bidirectional=True).to(device)\n",
    "attention = Attention(hidden_size).to(device)\n",
    "Decoder = nn.LSTM(embedding_size + 2 * hidden_size, hidden_size, batch_first=True).to(device)\n",
    "linear_vocab = nn.Linear(3 * hidden_size, char_vocab_size - 1).to(device) # remove pad character option\n",
    "generation_prob = GenerationProbability(embedding_size, hidden_size).to(device)\n",
    "log_softmax = nn.LogSoftmax(dim=2).to(device)\n",
    "criterion = nn.NLLLoss(ignore_index=-1)\n",
    "params = list(Embedder.parameters()) + list(Encoder.parameters()) + list(Decoder.parameters()) + \\\n",
    "        list(linear_vocab.parameters())+ list(attention.parameters()) + list(generation_prob.parameters())"
   ]
  },
  {
   "cell_type": "code",
   "execution_count": 13,
   "metadata": {},
   "outputs": [],
   "source": [
    "def test(lemmas_val, tags_val, inflected_forms_val, batch_size=32, attn_debug=False, max_pred_len=25):\n",
    "    max_pred_len = 25\n",
    "\n",
    "    inflected_predicted = []\n",
    "    inflected_forms_true = []\n",
    "    if attn_debug:\n",
    "        input_seq = []\n",
    "        attn_weights_all = []\n",
    "        p_gen_all = []\n",
    "    output_indices = []\n",
    "\n",
    "    for batch in grouper(zip(lemmas_val, tags_val, inflected_forms_val), batch_size):\n",
    "        batch = list(filter(lambda x: x is not None, batch))\n",
    "        lemmas, tags, inflected_forms = zip(*batch)\n",
    "\n",
    "        lemmas_indices = words_to_indices(lemmas, input2index, start_char=True, stop_char=True)\n",
    "        tags_indices = tag_to_indices(tags, input2index)    \n",
    "        input_indices = merge_lists(lemmas_indices, tags_indices)\n",
    "\n",
    "        # Sort by length of input sequence\n",
    "        input_indices, inflected_forms = zip(*sorted(zip(input_indices, inflected_forms), key=lambda x: len(x[0]), reverse=True))        \n",
    "        if attn_debug:\n",
    "            input_seq += [[index2input[index] for index in input_indices1] for input_indices1 in input_indices]\n",
    "        input_indices = [torch.tensor(lst) for lst in input_indices]\n",
    "\n",
    "        input_tensor = pad_sequence(input_indices, padding_value=input2index[PAD_CHAR], batch_first=True).to(device)\n",
    "        embedding = Embedder(input_tensor)\n",
    "        lengths = [Tensor.shape[0] for Tensor in input_indices]\n",
    "        packed_input = pack_padded_sequence(embedding, lengths, batch_first=True)\n",
    "        encoded_packed_seq, (hidden, cell) = Encoder(packed_input)\n",
    "        encoded_input = pad_packed_sequence(encoded_packed_seq, batch_first=True)[0]\n",
    "\n",
    "        input_mask = input_tensor == 0\n",
    "        # input_mask = torch.where(input_mask > 0, torch.zeros_like(input_mask), torch.ones_like(input_mask) * float('inf')) \n",
    "\n",
    "\n",
    "        # Decode\n",
    "        hidden_state = hidden[0,:,:] + hidden[1,:,:]\n",
    "        hidden_state = hidden_state.unsqueeze(0)\n",
    "        cell_state = torch.zeros(1, len(lengths), hidden_size).to(device)\n",
    "\n",
    "        decoder_input = torch.tensor([input2index[START_CHAR]] * len(lengths)).to(device)\n",
    "        decoder_input = Embedder(decoder_input)\n",
    "\n",
    "\n",
    "        outputs = []\n",
    "        attn_weights_sequence = []\n",
    "        p_gen_seq = []\n",
    "        for seq in range(0, max_pred_len):\n",
    "            attn_weights = attention(encoded_input, hidden_state, input_mask)\n",
    "            context = torch.bmm(attn_weights.unsqueeze(1), encoded_input).squeeze()\n",
    "\n",
    "            decoder_input_concat = torch.cat([context, decoder_input], dim=1)\n",
    "\n",
    "            output, (hidden_state, cell_state) = Decoder(decoder_input_concat.unsqueeze(1), (hidden_state, cell_state))\n",
    "            p_vocab = F.relu(linear_vocab(torch.cat([hidden_state, context.unsqueeze(0)], dim=2)))    \n",
    "            p_vocab = F.softmax(p_vocab.squeeze(), dim=1)\n",
    "            p_gen = generation_prob(context, hidden_state, decoder_input)\n",
    "            p_atten = torch.zeros(attn_weights.shape[0], len(input2index)).to(device)\n",
    "            p_atten.scatter_add_(1, input_tensor, attn_weights)\n",
    "            p_w = p_gen * p_vocab + (1 - p_gen) * p_atten[:, 1:char_vocab_size]\n",
    "            decoder_input = Embedder(p_w.argmax(dim=1) + 1)\n",
    "            outputs.append(p_w)\n",
    "            if attn_debug:\n",
    "                attn_weights_sequence.append(attn_weights)\n",
    "                p_gen_seq.append(p_gen)\n",
    "\n",
    "        if attn_debug:\n",
    "            attn_weights_sequence = torch.stack(attn_weights_sequence, dim=1)\n",
    "            attn_weights_all.append(attn_weights_sequence)\n",
    "            p_gen_all.append(torch.cat(p_gen_seq, dim=1))\n",
    "        output_indices.append(torch.stack(outputs).argmax(dim=2))\n",
    "        inflected_forms_true += inflected_forms\n",
    "\n",
    "    output_indices = torch.cat(output_indices, dim=1).transpose(0, 1).cpu().numpy()\n",
    "    for indices in output_indices:\n",
    "        inflected_predicted.append(''.join([index2input[index + 1] for index in indices]).split(STOP_CHAR)[0])\n",
    "\n",
    "    if attn_debug:\n",
    "        max_src_len = max([x.shape[2] for x in attn_weights_all])\n",
    "        for i in range(len(attn_weights_all)):\n",
    "            attn_weights = attn_weights_all[i]\n",
    "            batch_size = attn_weights.shape[0]\n",
    "            src_len = attn_weights.shape[2]\n",
    "            attn_weights_all[i] = torch.zeros(batch_size, max_pred_len, max_src_len)\n",
    "            attn_weights_all[i][:,:,:src_len] = attn_weights\n",
    "        attn_weights_all = torch.cat(attn_weights_all, dim=0)\n",
    "        p_gen_all = torch.cat(p_gen_all, dim=0)\n",
    "        return inflected_predicted, input_seq, attn_weights_all, p_gen_all\n",
    "    else:\n",
    "        return inflected_predicted, inflected_forms_true"
   ]
  },
  {
   "cell_type": "code",
   "execution_count": 14,
   "metadata": {},
   "outputs": [],
   "source": [
    "def train(lemmas_train, tags_train, inflected_forms_train, epochs=1):\n",
    "    start_time = time.time()\n",
    "    \n",
    "    for epoch in range(epochs):\n",
    "\n",
    "        epoch_loss = 0\n",
    "\n",
    "        for batch in grouper(zip(lemmas_train, tags_train, inflected_forms_train), batch_size):\n",
    "            batch = list(filter(lambda x: x is not None, batch))\n",
    "            lemmas, tags, inflected_forms = zip(*batch)\n",
    "\n",
    "\n",
    "            lemmas_indices = words_to_indices(lemmas, input2index, start_char=True, stop_char=True)\n",
    "            tags_indices = tag_to_indices(tags, input2index)    \n",
    "            inflected_forms_indices = words_to_indices(inflected_forms, input2index)\n",
    "            input_indices = merge_lists(lemmas_indices, tags_indices)\n",
    "\n",
    "            # Sort by length of input sequence\n",
    "            input_indices, inflected_forms_indices = zip(*sorted(zip(input_indices, inflected_forms_indices), key=lambda x: len(x[0]), reverse=True))\n",
    "            input_indices = [torch.tensor(lst) for lst in input_indices]\n",
    "\n",
    "            optimiser.zero_grad()\n",
    "\n",
    "            input_tensor = pad_sequence(input_indices, padding_value=input2index[PAD_CHAR], batch_first=True).to(device)\n",
    "            embedding = Embedder(input_tensor)\n",
    "            lengths = [Tensor.shape[0] for Tensor in input_indices]\n",
    "            packed_input = pack_padded_sequence(embedding, lengths, batch_first=True)\n",
    "            encoded_packed_seq, (hidden, cell) = Encoder(packed_input)\n",
    "            encoded_input = pad_packed_sequence(encoded_packed_seq, batch_first=True)[0]\n",
    "\n",
    "            input_mask = input_tensor == 0\n",
    "            # input_mask = torch.where(input_mask > 0, torch.zeros_like(input_mask), torch.ones_like(input_mask) * float('inf')) \n",
    "\n",
    "            # Decode\n",
    "            hidden_state = hidden[0,:,:] + hidden[1,:,:]\n",
    "            hidden_state = hidden_state.unsqueeze(0)\n",
    "            cell_state = torch.zeros(1, len(lengths), hidden_size).to(device)\n",
    "\n",
    "            target = pad_lists([lst + [input2index[STOP_CHAR]] for lst in inflected_forms_indices], input2index[PAD_CHAR]).to(device)    \n",
    "            target = target - 1\n",
    "\n",
    "            decoder_input = pad_lists(inflected_forms_indices, input2index[PAD_CHAR]).to(device)\n",
    "            decoder_input = torch.cat([torch.tensor([input2index[START_CHAR]] * len(lengths)).unsqueeze(1).to(device), decoder_input], dim=1)\n",
    "            decoder_input = Embedder(decoder_input)\n",
    "\n",
    "            loss = 0\n",
    "\n",
    "            max_length = target.shape[1]\n",
    "            for seq in range(0, max_length):\n",
    "                attn_weights = attention(encoded_input, hidden_state, input_mask)\n",
    "                context = torch.bmm(attn_weights.unsqueeze(1), encoded_input).squeeze()\n",
    "\n",
    "                decoder_input_concat = torch.cat([context.unsqueeze(1), decoder_input[:,seq,:].unsqueeze(1)], dim=2)\n",
    "\n",
    "                output, (hidden_state, cell_state) = Decoder(decoder_input_concat, (hidden_state, cell_state))\n",
    "                p_vocab = F.relu(linear_vocab(torch.cat([hidden_state, context.unsqueeze(0)], dim=2)))\n",
    "                p_vocab = F.softmax(p_vocab.squeeze(), dim=1)\n",
    "\n",
    "                p_gen = generation_prob(context, hidden_state, decoder_input[:,seq,:])\n",
    "                p_atten = torch.zeros(attn_weights.shape[0], len(input2index)).to(device)\n",
    "                p_atten.scatter_add_(1, input_tensor, attn_weights)\n",
    "                p_w = p_gen * p_vocab + (1 - p_gen) * p_atten[:, 1:char_vocab_size]\n",
    "\n",
    "                p_w = torch.log(p_w)\n",
    "                loss += criterion(p_w, target[:,seq])\n",
    "\n",
    "                epoch_loss += loss.item()\n",
    "            loss.backward()\n",
    "            optimiser.step()\n",
    "        print(\"Epoch: {}/{}\\tTime: {:.2f}s\\tLoss: {:.4f}\\tAccuracy: {:.4f}\\tDistance: {:.4f} \".format(epoch+1, epochs, time.time() - start_time, epoch_loss / len(lemmas_train), *evaluate(*test(lemmas_val, tags_val, inflected_forms_val))))"
   ]
  },
  {
   "cell_type": "code",
   "execution_count": 15,
   "metadata": {},
   "outputs": [],
   "source": [
    "optimiser = optim.Adagrad(params, lr=0.1)"
   ]
  },
  {
   "cell_type": "code",
   "execution_count": 16,
   "metadata": {
    "scrolled": false
   },
   "outputs": [
    {
     "name": "stdout",
     "output_type": "stream",
     "text": [
      "Epoch: 1/50\tTime: 10.53s\tLoss: 7.3870\tAccuracy: 0.0205\tDistance: 5.1515 \n",
      "Epoch: 2/50\tTime: 22.55s\tLoss: 3.9669\tAccuracy: 0.1060\tDistance: 4.3375 \n",
      "Epoch: 3/50\tTime: 35.04s\tLoss: 2.8955\tAccuracy: 0.1605\tDistance: 3.4315 \n",
      "Epoch: 4/50\tTime: 47.03s\tLoss: 2.2719\tAccuracy: 0.3050\tDistance: 2.8590 \n",
      "Epoch: 5/50\tTime: 59.19s\tLoss: 2.0150\tAccuracy: 0.3120\tDistance: 2.6380 \n",
      "Epoch: 6/50\tTime: 71.13s\tLoss: 1.6915\tAccuracy: 0.3940\tDistance: 2.0190 \n",
      "Epoch: 7/50\tTime: 82.87s\tLoss: 1.4067\tAccuracy: 0.4450\tDistance: 1.7955 \n",
      "Epoch: 8/50\tTime: 95.65s\tLoss: 1.1772\tAccuracy: 0.4975\tDistance: 1.6325 \n",
      "Epoch: 9/50\tTime: 108.17s\tLoss: 1.0138\tAccuracy: 0.5700\tDistance: 1.3630 \n",
      "Epoch: 10/50\tTime: 120.68s\tLoss: 0.8866\tAccuracy: 0.5970\tDistance: 1.1500 \n",
      "Epoch: 11/50\tTime: 132.85s\tLoss: 0.8830\tAccuracy: 0.6065\tDistance: 1.1870 \n",
      "Epoch: 12/50\tTime: 145.02s\tLoss: 0.7841\tAccuracy: 0.6100\tDistance: 1.1420 \n",
      "Epoch: 13/50\tTime: 157.71s\tLoss: 0.8562\tAccuracy: 0.6080\tDistance: 1.2995 \n",
      "Epoch: 14/50\tTime: 170.80s\tLoss: 0.7491\tAccuracy: 0.6195\tDistance: 1.1450 \n",
      "Epoch: 15/50\tTime: 183.35s\tLoss: 0.8522\tAccuracy: 0.6355\tDistance: 1.0295 \n",
      "Epoch: 16/50\tTime: 194.68s\tLoss: 0.7047\tAccuracy: 0.6610\tDistance: 1.0145 \n",
      "Epoch: 17/50\tTime: 209.39s\tLoss: 0.6123\tAccuracy: 0.6930\tDistance: 0.8570 \n",
      "Epoch: 18/50\tTime: 221.47s\tLoss: 0.5565\tAccuracy: 0.7060\tDistance: 0.8270 \n",
      "Epoch: 19/50\tTime: 233.32s\tLoss: 0.4983\tAccuracy: 0.7365\tDistance: 0.7320 \n",
      "Epoch: 20/50\tTime: 246.30s\tLoss: 0.4706\tAccuracy: 0.7330\tDistance: 0.7550 \n",
      "Epoch: 21/50\tTime: 258.05s\tLoss: 0.4900\tAccuracy: 0.7305\tDistance: 0.8195 \n",
      "Epoch: 22/50\tTime: 270.68s\tLoss: 0.5303\tAccuracy: 0.6910\tDistance: 0.8780 \n",
      "Epoch: 23/50\tTime: 282.30s\tLoss: 0.5593\tAccuracy: 0.6970\tDistance: 0.8600 \n"
     ]
    },
    {
     "ename": "KeyboardInterrupt",
     "evalue": "",
     "traceback": [
      "\u001b[0;31m---------------------------------------------------------------------------\u001b[0m",
      "\u001b[0;31mKeyboardInterrupt\u001b[0m                         Traceback (most recent call last)",
      "\u001b[0;32m<ipython-input-16-a03c02b12fc9>\u001b[0m in \u001b[0;36m<module>\u001b[0;34m()\u001b[0m\n\u001b[0;32m----> 1\u001b[0;31m \u001b[0mget_ipython\u001b[0m\u001b[0;34m(\u001b[0m\u001b[0;34m)\u001b[0m\u001b[0;34m.\u001b[0m\u001b[0mrun_line_magic\u001b[0m\u001b[0;34m(\u001b[0m\u001b[0;34m'prun'\u001b[0m\u001b[0;34m,\u001b[0m \u001b[0;34m'train(lemmas_train, tags_train, inflected_forms_train, epochs=50)'\u001b[0m\u001b[0;34m)\u001b[0m\u001b[0;34m\u001b[0m\u001b[0m\n\u001b[0m",
      "\u001b[0;32m~/anaconda3/lib/python3.6/site-packages/IPython/core/interactiveshell.py\u001b[0m in \u001b[0;36mrun_line_magic\u001b[0;34m(self, magic_name, line, _stack_depth)\u001b[0m\n\u001b[1;32m   2093\u001b[0m                 \u001b[0mkwargs\u001b[0m\u001b[0;34m[\u001b[0m\u001b[0;34m'local_ns'\u001b[0m\u001b[0;34m]\u001b[0m \u001b[0;34m=\u001b[0m \u001b[0msys\u001b[0m\u001b[0;34m.\u001b[0m\u001b[0m_getframe\u001b[0m\u001b[0;34m(\u001b[0m\u001b[0mstack_depth\u001b[0m\u001b[0;34m)\u001b[0m\u001b[0;34m.\u001b[0m\u001b[0mf_locals\u001b[0m\u001b[0;34m\u001b[0m\u001b[0m\n\u001b[1;32m   2094\u001b[0m             \u001b[0;32mwith\u001b[0m \u001b[0mself\u001b[0m\u001b[0;34m.\u001b[0m\u001b[0mbuiltin_trap\u001b[0m\u001b[0;34m:\u001b[0m\u001b[0;34m\u001b[0m\u001b[0m\n\u001b[0;32m-> 2095\u001b[0;31m                 \u001b[0mresult\u001b[0m \u001b[0;34m=\u001b[0m \u001b[0mfn\u001b[0m\u001b[0;34m(\u001b[0m\u001b[0;34m*\u001b[0m\u001b[0margs\u001b[0m\u001b[0;34m,\u001b[0m\u001b[0;34m**\u001b[0m\u001b[0mkwargs\u001b[0m\u001b[0;34m)\u001b[0m\u001b[0;34m\u001b[0m\u001b[0m\n\u001b[0m\u001b[1;32m   2096\u001b[0m             \u001b[0;32mreturn\u001b[0m \u001b[0mresult\u001b[0m\u001b[0;34m\u001b[0m\u001b[0m\n\u001b[1;32m   2097\u001b[0m \u001b[0;34m\u001b[0m\u001b[0m\n",
      "\u001b[0;32m<decorator-gen-56>\u001b[0m in \u001b[0;36mprun\u001b[0;34m(self, parameter_s, cell)\u001b[0m\n",
      "\u001b[0;32m~/anaconda3/lib/python3.6/site-packages/IPython/core/magic.py\u001b[0m in \u001b[0;36m<lambda>\u001b[0;34m(f, *a, **k)\u001b[0m\n\u001b[1;32m    185\u001b[0m     \u001b[0;31m# but it's overkill for just that one bit of state.\u001b[0m\u001b[0;34m\u001b[0m\u001b[0;34m\u001b[0m\u001b[0m\n\u001b[1;32m    186\u001b[0m     \u001b[0;32mdef\u001b[0m \u001b[0mmagic_deco\u001b[0m\u001b[0;34m(\u001b[0m\u001b[0marg\u001b[0m\u001b[0;34m)\u001b[0m\u001b[0;34m:\u001b[0m\u001b[0;34m\u001b[0m\u001b[0m\n\u001b[0;32m--> 187\u001b[0;31m         \u001b[0mcall\u001b[0m \u001b[0;34m=\u001b[0m \u001b[0;32mlambda\u001b[0m \u001b[0mf\u001b[0m\u001b[0;34m,\u001b[0m \u001b[0;34m*\u001b[0m\u001b[0ma\u001b[0m\u001b[0;34m,\u001b[0m \u001b[0;34m**\u001b[0m\u001b[0mk\u001b[0m\u001b[0;34m:\u001b[0m \u001b[0mf\u001b[0m\u001b[0;34m(\u001b[0m\u001b[0;34m*\u001b[0m\u001b[0ma\u001b[0m\u001b[0;34m,\u001b[0m \u001b[0;34m**\u001b[0m\u001b[0mk\u001b[0m\u001b[0;34m)\u001b[0m\u001b[0;34m\u001b[0m\u001b[0m\n\u001b[0m\u001b[1;32m    188\u001b[0m \u001b[0;34m\u001b[0m\u001b[0m\n\u001b[1;32m    189\u001b[0m         \u001b[0;32mif\u001b[0m \u001b[0mcallable\u001b[0m\u001b[0;34m(\u001b[0m\u001b[0marg\u001b[0m\u001b[0;34m)\u001b[0m\u001b[0;34m:\u001b[0m\u001b[0;34m\u001b[0m\u001b[0m\n",
      "\u001b[0;32m~/anaconda3/lib/python3.6/site-packages/IPython/core/magics/execution.py\u001b[0m in \u001b[0;36mprun\u001b[0;34m(self, parameter_s, cell)\u001b[0m\n\u001b[1;32m    300\u001b[0m             \u001b[0marg_str\u001b[0m \u001b[0;34m+=\u001b[0m \u001b[0;34m'\\n'\u001b[0m \u001b[0;34m+\u001b[0m \u001b[0mcell\u001b[0m\u001b[0;34m\u001b[0m\u001b[0m\n\u001b[1;32m    301\u001b[0m         \u001b[0marg_str\u001b[0m \u001b[0;34m=\u001b[0m \u001b[0mself\u001b[0m\u001b[0;34m.\u001b[0m\u001b[0mshell\u001b[0m\u001b[0;34m.\u001b[0m\u001b[0minput_splitter\u001b[0m\u001b[0;34m.\u001b[0m\u001b[0mtransform_cell\u001b[0m\u001b[0;34m(\u001b[0m\u001b[0marg_str\u001b[0m\u001b[0;34m)\u001b[0m\u001b[0;34m\u001b[0m\u001b[0m\n\u001b[0;32m--> 302\u001b[0;31m         \u001b[0;32mreturn\u001b[0m \u001b[0mself\u001b[0m\u001b[0;34m.\u001b[0m\u001b[0m_run_with_profiler\u001b[0m\u001b[0;34m(\u001b[0m\u001b[0marg_str\u001b[0m\u001b[0;34m,\u001b[0m \u001b[0mopts\u001b[0m\u001b[0;34m,\u001b[0m \u001b[0mself\u001b[0m\u001b[0;34m.\u001b[0m\u001b[0mshell\u001b[0m\u001b[0;34m.\u001b[0m\u001b[0muser_ns\u001b[0m\u001b[0;34m)\u001b[0m\u001b[0;34m\u001b[0m\u001b[0m\n\u001b[0m\u001b[1;32m    303\u001b[0m \u001b[0;34m\u001b[0m\u001b[0m\n\u001b[1;32m    304\u001b[0m     \u001b[0;32mdef\u001b[0m \u001b[0m_run_with_profiler\u001b[0m\u001b[0;34m(\u001b[0m\u001b[0mself\u001b[0m\u001b[0;34m,\u001b[0m \u001b[0mcode\u001b[0m\u001b[0;34m,\u001b[0m \u001b[0mopts\u001b[0m\u001b[0;34m,\u001b[0m \u001b[0mnamespace\u001b[0m\u001b[0;34m)\u001b[0m\u001b[0;34m:\u001b[0m\u001b[0;34m\u001b[0m\u001b[0m\n",
      "\u001b[0;32m~/anaconda3/lib/python3.6/site-packages/IPython/core/magics/execution.py\u001b[0m in \u001b[0;36m_run_with_profiler\u001b[0;34m(self, code, opts, namespace)\u001b[0m\n\u001b[1;32m    322\u001b[0m         \u001b[0mprof\u001b[0m \u001b[0;34m=\u001b[0m \u001b[0mprofile\u001b[0m\u001b[0;34m.\u001b[0m\u001b[0mProfile\u001b[0m\u001b[0;34m(\u001b[0m\u001b[0;34m)\u001b[0m\u001b[0;34m\u001b[0m\u001b[0m\n\u001b[1;32m    323\u001b[0m         \u001b[0;32mtry\u001b[0m\u001b[0;34m:\u001b[0m\u001b[0;34m\u001b[0m\u001b[0m\n\u001b[0;32m--> 324\u001b[0;31m             \u001b[0mprof\u001b[0m \u001b[0;34m=\u001b[0m \u001b[0mprof\u001b[0m\u001b[0;34m.\u001b[0m\u001b[0mrunctx\u001b[0m\u001b[0;34m(\u001b[0m\u001b[0mcode\u001b[0m\u001b[0;34m,\u001b[0m \u001b[0mnamespace\u001b[0m\u001b[0;34m,\u001b[0m \u001b[0mnamespace\u001b[0m\u001b[0;34m)\u001b[0m\u001b[0;34m\u001b[0m\u001b[0m\n\u001b[0m\u001b[1;32m    325\u001b[0m             \u001b[0msys_exit\u001b[0m \u001b[0;34m=\u001b[0m \u001b[0;34m''\u001b[0m\u001b[0;34m\u001b[0m\u001b[0m\n\u001b[1;32m    326\u001b[0m         \u001b[0;32mexcept\u001b[0m \u001b[0mSystemExit\u001b[0m\u001b[0;34m:\u001b[0m\u001b[0;34m\u001b[0m\u001b[0m\n",
      "\u001b[0;32m~/anaconda3/lib/python3.6/cProfile.py\u001b[0m in \u001b[0;36mrunctx\u001b[0;34m(self, cmd, globals, locals)\u001b[0m\n\u001b[1;32m     98\u001b[0m         \u001b[0mself\u001b[0m\u001b[0;34m.\u001b[0m\u001b[0menable\u001b[0m\u001b[0;34m(\u001b[0m\u001b[0;34m)\u001b[0m\u001b[0;34m\u001b[0m\u001b[0m\n\u001b[1;32m     99\u001b[0m         \u001b[0;32mtry\u001b[0m\u001b[0;34m:\u001b[0m\u001b[0;34m\u001b[0m\u001b[0m\n\u001b[0;32m--> 100\u001b[0;31m             \u001b[0mexec\u001b[0m\u001b[0;34m(\u001b[0m\u001b[0mcmd\u001b[0m\u001b[0;34m,\u001b[0m \u001b[0mglobals\u001b[0m\u001b[0;34m,\u001b[0m \u001b[0mlocals\u001b[0m\u001b[0;34m)\u001b[0m\u001b[0;34m\u001b[0m\u001b[0m\n\u001b[0m\u001b[1;32m    101\u001b[0m         \u001b[0;32mfinally\u001b[0m\u001b[0;34m:\u001b[0m\u001b[0;34m\u001b[0m\u001b[0m\n\u001b[1;32m    102\u001b[0m             \u001b[0mself\u001b[0m\u001b[0;34m.\u001b[0m\u001b[0mdisable\u001b[0m\u001b[0;34m(\u001b[0m\u001b[0;34m)\u001b[0m\u001b[0;34m\u001b[0m\u001b[0m\n",
      "\u001b[0;32m<string>\u001b[0m in \u001b[0;36m<module>\u001b[0;34m()\u001b[0m\n",
      "\u001b[0;32m<ipython-input-14-fc29fb613a5d>\u001b[0m in \u001b[0;36mtrain\u001b[0;34m(lemmas_train, tags_train, inflected_forms_train, epochs)\u001b[0m\n\u001b[1;32m     66\u001b[0m \u001b[0;34m\u001b[0m\u001b[0m\n\u001b[1;32m     67\u001b[0m                 \u001b[0mepoch_loss\u001b[0m \u001b[0;34m+=\u001b[0m \u001b[0mloss\u001b[0m\u001b[0;34m.\u001b[0m\u001b[0mitem\u001b[0m\u001b[0;34m(\u001b[0m\u001b[0;34m)\u001b[0m\u001b[0;34m\u001b[0m\u001b[0m\n\u001b[0;32m---> 68\u001b[0;31m             \u001b[0mloss\u001b[0m\u001b[0;34m.\u001b[0m\u001b[0mbackward\u001b[0m\u001b[0;34m(\u001b[0m\u001b[0;34m)\u001b[0m\u001b[0;34m\u001b[0m\u001b[0m\n\u001b[0m\u001b[1;32m     69\u001b[0m             \u001b[0moptimiser\u001b[0m\u001b[0;34m.\u001b[0m\u001b[0mstep\u001b[0m\u001b[0;34m(\u001b[0m\u001b[0;34m)\u001b[0m\u001b[0;34m\u001b[0m\u001b[0m\n\u001b[1;32m     70\u001b[0m         \u001b[0mprint\u001b[0m\u001b[0;34m(\u001b[0m\u001b[0;34m\"Epoch: {}/{}\\tTime: {:.2f}s\\tLoss: {:.4f}\\tAccuracy: {:.4f}\\tDistance: {:.4f} \"\u001b[0m\u001b[0;34m.\u001b[0m\u001b[0mformat\u001b[0m\u001b[0;34m(\u001b[0m\u001b[0mepoch\u001b[0m\u001b[0;34m+\u001b[0m\u001b[0;36m1\u001b[0m\u001b[0;34m,\u001b[0m \u001b[0mepochs\u001b[0m\u001b[0;34m,\u001b[0m \u001b[0mtime\u001b[0m\u001b[0;34m.\u001b[0m\u001b[0mtime\u001b[0m\u001b[0;34m(\u001b[0m\u001b[0;34m)\u001b[0m \u001b[0;34m-\u001b[0m \u001b[0mstart_time\u001b[0m\u001b[0;34m,\u001b[0m \u001b[0mepoch_loss\u001b[0m \u001b[0;34m/\u001b[0m \u001b[0mlen\u001b[0m\u001b[0;34m(\u001b[0m\u001b[0mlemmas_train\u001b[0m\u001b[0;34m)\u001b[0m\u001b[0;34m,\u001b[0m \u001b[0;34m*\u001b[0m\u001b[0mevaluate\u001b[0m\u001b[0;34m(\u001b[0m\u001b[0;34m*\u001b[0m\u001b[0mtest\u001b[0m\u001b[0;34m(\u001b[0m\u001b[0mlemmas_val\u001b[0m\u001b[0;34m,\u001b[0m \u001b[0mtags_val\u001b[0m\u001b[0;34m,\u001b[0m \u001b[0minflected_forms_val\u001b[0m\u001b[0;34m)\u001b[0m\u001b[0;34m)\u001b[0m\u001b[0;34m)\u001b[0m\u001b[0;34m)\u001b[0m\u001b[0;34m\u001b[0m\u001b[0m\n",
      "\u001b[0;32m~/anaconda3/lib/python3.6/site-packages/torch/tensor.py\u001b[0m in \u001b[0;36mbackward\u001b[0;34m(self, gradient, retain_graph, create_graph)\u001b[0m\n\u001b[1;32m     91\u001b[0m                 \u001b[0mproducts\u001b[0m\u001b[0;34m.\u001b[0m \u001b[0mDefaults\u001b[0m \u001b[0mto\u001b[0m\u001b[0;31m \u001b[0m\u001b[0;31m`\u001b[0m\u001b[0;31m`\u001b[0m\u001b[0;32mFalse\u001b[0m\u001b[0;31m`\u001b[0m\u001b[0;31m`\u001b[0m\u001b[0;34m.\u001b[0m\u001b[0;34m\u001b[0m\u001b[0m\n\u001b[1;32m     92\u001b[0m         \"\"\"\n\u001b[0;32m---> 93\u001b[0;31m         \u001b[0mtorch\u001b[0m\u001b[0;34m.\u001b[0m\u001b[0mautograd\u001b[0m\u001b[0;34m.\u001b[0m\u001b[0mbackward\u001b[0m\u001b[0;34m(\u001b[0m\u001b[0mself\u001b[0m\u001b[0;34m,\u001b[0m \u001b[0mgradient\u001b[0m\u001b[0;34m,\u001b[0m \u001b[0mretain_graph\u001b[0m\u001b[0;34m,\u001b[0m \u001b[0mcreate_graph\u001b[0m\u001b[0;34m)\u001b[0m\u001b[0;34m\u001b[0m\u001b[0m\n\u001b[0m\u001b[1;32m     94\u001b[0m \u001b[0;34m\u001b[0m\u001b[0m\n\u001b[1;32m     95\u001b[0m     \u001b[0;32mdef\u001b[0m \u001b[0mregister_hook\u001b[0m\u001b[0;34m(\u001b[0m\u001b[0mself\u001b[0m\u001b[0;34m,\u001b[0m \u001b[0mhook\u001b[0m\u001b[0;34m)\u001b[0m\u001b[0;34m:\u001b[0m\u001b[0;34m\u001b[0m\u001b[0m\n",
      "\u001b[0;32m~/anaconda3/lib/python3.6/site-packages/torch/autograd/__init__.py\u001b[0m in \u001b[0;36mbackward\u001b[0;34m(tensors, grad_tensors, retain_graph, create_graph, grad_variables)\u001b[0m\n\u001b[1;32m     87\u001b[0m     Variable._execution_engine.run_backward(\n\u001b[1;32m     88\u001b[0m         \u001b[0mtensors\u001b[0m\u001b[0;34m,\u001b[0m \u001b[0mgrad_tensors\u001b[0m\u001b[0;34m,\u001b[0m \u001b[0mretain_graph\u001b[0m\u001b[0;34m,\u001b[0m \u001b[0mcreate_graph\u001b[0m\u001b[0;34m,\u001b[0m\u001b[0;34m\u001b[0m\u001b[0m\n\u001b[0;32m---> 89\u001b[0;31m         allow_unreachable=True)  # allow_unreachable flag\n\u001b[0m\u001b[1;32m     90\u001b[0m \u001b[0;34m\u001b[0m\u001b[0m\n\u001b[1;32m     91\u001b[0m \u001b[0;34m\u001b[0m\u001b[0m\n",
      "\u001b[0;31mKeyboardInterrupt\u001b[0m: "
     ],
     "output_type": "error"
    }
   ],
   "source": [
    "%prun train(lemmas_train, tags_train, inflected_forms_train, epochs=50)"
   ]
  },
  {
   "cell_type": "code",
   "execution_count": null,
   "metadata": {},
   "outputs": [],
   "source": [
    "optimiser = optim.Adagrad(params, lr=0.01)"
   ]
  },
  {
   "cell_type": "code",
   "execution_count": null,
   "metadata": {
    "scrolled": true
   },
   "outputs": [],
   "source": [
    "train(lemmas_train, tags_train, inflected_forms_train, epochs=30)"
   ]
  },
  {
   "cell_type": "code",
   "execution_count": null,
   "metadata": {},
   "outputs": [],
   "source": [
    "optimiser = optim.Adagrad(params, lr=0.01)"
   ]
  },
  {
   "cell_type": "code",
   "execution_count": null,
   "metadata": {
    "scrolled": true
   },
   "outputs": [],
   "source": [
    "train(lemmas_train, tags_train, inflected_forms_train, epochs=1000)"
   ]
  },
  {
   "cell_type": "code",
   "execution_count": null,
   "metadata": {},
   "outputs": [],
   "source": [
    "print(\"Train accuracy:\", evaluate(*test(lemmas_train, tags_train, inflected_forms_train)), \"Validation accuracy: \", evaluate(*test(lemmas_val, tags_val, inflected_forms_val)))"
   ]
  },
  {
   "cell_type": "markdown",
   "metadata": {},
   "source": [
    "# Visualising"
   ]
  },
  {
   "cell_type": "code",
   "execution_count": 17,
   "metadata": {
    "scrolled": true
   },
   "outputs": [],
   "source": [
    "pred, input_seq, attn_weights, p_gens = test(lemmas_val[:100], tags_val[:100], inflected_forms_val[:100], batch_size=32, attn_debug=True)"
   ]
  },
  {
   "cell_type": "code",
   "execution_count": 23,
   "metadata": {},
   "outputs": [
    {
     "data": {
      "text/plain": [
       "tensor([ 0.9714,  1.0000,  1.0000,  1.0000,  0.9998,  1.0000,  1.0000,\n",
       "         0.9999,  1.0000,  1.0000,  1.0000,  1.0000,  1.0000,  1.0000,\n",
       "         1.0000,  1.0000,  1.0000,  1.0000,  1.0000,  1.0000,  1.0000,\n",
       "         1.0000,  1.0000,  1.0000,  1.0000], device='cuda:0')"
      ]
     },
     "execution_count": 23,
     "metadata": {},
     "output_type": "execute_result"
    }
   ],
   "source": [
    "p_gens[1]"
   ]
  },
  {
   "cell_type": "code",
   "execution_count": 21,
   "metadata": {},
   "outputs": [],
   "source": [
    "def showAttention(input_sentence, output_words, attentions, font=None):\n",
    "    # https://pytorch.org/tutorials/intermediate/seq2seq_translation_tutorial.html\n",
    "        \n",
    "    # Set up figure with colorbar\n",
    "    fig = plt.figure(figsize=(15,15))\n",
    "    ax = fig.add_subplot(111)\n",
    "    cax = ax.matshow(attentions, cmap='bone')\n",
    "    fig.colorbar(cax)\n",
    "\n",
    "    # Set up axes\n",
    "    font = FontProperties(fname=font, size=24)\n",
    "    ax.set_xticklabels([''] + input_sentence, rotation=90, fontproperties=font)\n",
    "    ax.set_yticklabels([''] + output_words, fontproperties=font)\n",
    "    ax.tick_params(axis='both', which='major', pad=15)\n",
    "\n",
    "    # Show label at every tick\n",
    "    ax.xaxis.set_major_locator(ticker.MultipleLocator(1))\n",
    "    ax.yaxis.set_major_locator(ticker.MultipleLocator(1))\n",
    "\n",
    "    plt.show()"
   ]
  },
  {
   "cell_type": "code",
   "execution_count": 22,
   "metadata": {},
   "outputs": [
    {
     "name": "stdout",
     "output_type": "stream",
     "text": [
      "X: axis: ⏵, t, o, u, r, n, o, y, e, r, ⏹, V, 1, PL, SBJV, PST, IPFV\n",
      "Y: axis: t, o, u, r, n, o, y, a, s, s, i, o, n, s tournoyassions\n",
      "Correct:  tournoyassions\n"
     ]
    },
    {
     "data": {
      "image/png": "[encoded data removed]",
      "text/plain": [
       "<matplotlib.figure.Figure at 0x7f03e3edfe80>"
      ]
     },
     "metadata": {},
     "output_type": "display_data"
    }
   ],
   "source": [
    "i = 1\n",
    "print('X: axis:', ', '.join(list(input_seq[i])))\n",
    "print('Y: axis:', ', '.join(list(pred[i])), pred[i])\n",
    "print(\"Correct: \", inflected_forms_val[lemmas_val.index(''.join(input_seq[i])[1:].split(STOP_CHAR)[0])])\n",
    "showAttention(input_seq[i], list(pred[i]), attn_weights[i, :len(pred[i])].cpu().detach().numpy(), 'Nirmala.ttf')"
   ]
  },
  {
   "cell_type": "code",
   "execution_count": null,
   "metadata": {},
   "outputs": [],
   "source": [
    "#list(zip(*test(lemmas_val, tags_val, inflected_forms_val)))"
   ]
  },
  {
   "cell_type": "markdown",
   "metadata": {},
   "source": [
    "# Development Dataset"
   ]
  },
  {
   "cell_type": "code",
   "execution_count": 24,
   "metadata": {},
   "outputs": [],
   "source": [
    "lemmas_dev, tags_dev, inflected_forms_dev = load_data('./conll2018/task1/all/{}-dev'.format(language))"
   ]
  },
  {
   "cell_type": "code",
   "execution_count": 25,
   "metadata": {},
   "outputs": [
    {
     "data": {
      "text/plain": [
       "(0.741, 0.746)"
      ]
     },
     "execution_count": 25,
     "metadata": {},
     "output_type": "execute_result"
    }
   ],
   "source": [
    "evaluate(*test(lemmas_dev, tags_dev, inflected_forms_dev))"
   ]
  },
  {
   "cell_type": "markdown",
   "metadata": {},
   "source": [
    "Hindi/high - (0.765, 0.782), Initial LR: 0.1, very different results on different initialisations  \n",
    "Middle-French/high - (0.873, 0.365) - Probability of generation always one. "
   ]
  },
  {
   "cell_type": "code",
   "execution_count": null,
   "metadata": {},
   "outputs": [],
   "source": [
    "for prediction, truth in zip(*test(lemmas_dev, tags_dev, inflected_forms_dev)):\n",
    "    if prediction != truth:\n",
    "        print(\"Prediction: {}\\tTruth: {}\".format(prediction, truth))"
   ]
  },
  {
   "cell_type": "code",
   "execution_count": null,
   "metadata": {},
   "outputs": [],
   "source": []
  }
 ],
 "metadata": {
  "kernelspec": {
   "display_name": "Python 3",
   "language": "python",
   "name": "python3"
  },
  "language_info": {
   "codemirror_mode": {
    "name": "ipython",
    "version": 3
   },
   "file_extension": ".py",
   "mimetype": "text/x-python",
   "name": "python",
   "nbconvert_exporter": "python",
   "pygments_lexer": "ipython3",
   "version": "3.6.4"
  }
 },
 "nbformat": 4,
 "nbformat_minor": 2
}
